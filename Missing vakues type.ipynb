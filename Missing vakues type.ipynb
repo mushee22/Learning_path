{
 "cells": [
  {
   "cell_type": "markdown",
   "metadata": {},
   "source": [
    "##### There are three types of missing data:\n",
    "1) Missing Completely and Random — (MCAR).\n",
    "\n",
    "2) Missing at Random — (MAR).\n",
    "\n",
    "3) Missing Not at Random — (MNAR)."
   ]
  },
  {
   "cell_type": "markdown",
   "metadata": {},
   "source": [
    "### Type I: Missing Completely at Random (MCAR)\n",
    "There’s no relationship between whether a data point is missing and any values in the data set (missing or observed) .\n",
    "\n",
    "The missing data are just a random subset of the data . \n",
    "\n",
    "The missingness is nothing to do with any other variable . By the way , data are rarely MCAR."
   ]
  },
  {
   "cell_type": "markdown",
   "metadata": {},
   "source": [
    "#### Type II: Missing at Random (MAR)\n",
    "The missing data here is affected only by the complete (observed ) \n",
    "\n",
    "variables and not by the characteristics of the missing data itself. \n",
    "\n",
    "in other words , for a data point , to be missing is not related to the missing data, \n",
    "\n",
    "but it is related to some of ( or all ) the observed data , \n",
    "\n",
    "the following example will depicts the situation and make it more clear :"
   ]
  },
  {
   "cell_type": "markdown",
   "metadata": {},
   "source": [
    "#### Type III: Missing Not at Random (MNAR)\n",
    "It is nor Type I neither Type II , and the data will be missing based on the missing column itself , \n",
    "\n",
    "for instance the following example points out \n",
    "\n",
    "the fact that data are missing on IQ score with only the people having a low score ."
   ]
  },
  {
   "cell_type": "markdown",
   "metadata": {},
   "source": [
    "#### Method 1: Deletion\n",
    "\n",
    "it falls under two different techniques :\n",
    "\n",
    "Listwise Deletion : In this method, an entire record is excluded from analysis if any single value is missing , \n",
    "\n",
    "and therefore we have the same N (number of records) for all analysis .\n",
    "\n",
    "Pairwise Deletion : during our analysis the number of records taken into consideration denoted “N” will vary according to \n",
    "\n",
    "the studied variable (column) , and for instance we could compute the mean for 2 features (Complete VS missing) and while \n",
    "\n",
    "dividing by the number of samples , we end up dividing by different N , one is the total number of rows and the other is \n",
    "\n",
    "the total number on complete values on the missing feature ."
   ]
  },
  {
   "cell_type": "markdown",
   "metadata": {},
   "source": [
    "#### Method 2: Single Imputation Methods\n",
    "\n",
    "Single value imputation : replacing the missing value with a single value utilizing one strategy such as : Mean , Median \n",
    "\n",
    "Most Frequent , Mean Person , … of the corresponding feature .\n",
    "\n",
    "Similarity : trying to find the closest ( top-N closer ) row(s) to the row containing our missing value , and fix a \n",
    "\n",
    "strategy among them to assign a value to our missing value .\n",
    "\n",
    "Regression Imputation : In single regression imputation the imputed value is predicted from a regression equation , we \n",
    "\n",
    "assume that the missing values are in a regression line with a nonzero slope with one of the complete features ( \n",
    "\n",
    "predictors )\n",
    "\n",
    "#### Method 3: Multiple Imputation Methods\n",
    "\n",
    "Expectation-Maximization Algorithm : an algorithm that could be used for both missing data imputation and for machine \n",
    "\n",
    "learning clustering task (considering the target as a missing feature) , it is based on two steps :"
   ]
  },
  {
   "cell_type": "code",
   "execution_count": null,
   "metadata": {},
   "outputs": [],
   "source": []
  }
 ],
 "metadata": {
  "kernelspec": {
   "display_name": "Python 3",
   "language": "python",
   "name": "python3"
  },
  "language_info": {
   "codemirror_mode": {
    "name": "ipython",
    "version": 3
   },
   "file_extension": ".py",
   "mimetype": "text/x-python",
   "name": "python",
   "nbconvert_exporter": "python",
   "pygments_lexer": "ipython3",
   "version": "3.8.3"
  }
 },
 "nbformat": 4,
 "nbformat_minor": 4
}
